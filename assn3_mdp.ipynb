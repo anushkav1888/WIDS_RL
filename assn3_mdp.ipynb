{
 "cells": [
  {
   "cell_type": "code", 
   "execution_count": 602,
   "id": "22fc8726-71a5-4f06-97bb-3e9234779f56",
   "metadata": {},
   "outputs": [],
   "source": [
    "import numpy as np\n",
    "with open('episodic-mdp-50-20.txt', 'r') as file:\n",
    "    for line_num, line in enumerate(file, 1):\n",
    "          words = line.split()\n",
    "          if words[0] == 'numStates':\n",
    "                # Extract the number of states and actions\n",
    "                num_states = int(words[1])\n",
    "          if words[0] == 'numActions':   \n",
    "                num_actions = int(words[1])\n",
    "rewards = np.zeros((num_states, num_actions, num_states), dtype=float)\n",
    "probabilities = np.zeros((num_states, num_actions, num_states), dtype=float)\n",
    "val = np.zeros((num_states, num_actions), dtype=float)\n",
    "v = np.zeros(num_states, dtype=float)\n",
    "num_iterations = 5000\n",
    "pol = np.zeros(num_states, dtype=float)\n",
    "diff_arr = np.zeros(num_states, dtype=float)\n",
    "next_v = np.zeros(num_states, dtype=float)\n",
    "eps = 0.0000001\n",
    "i = 0"
   ]
  },
  {
   "cell_type": "code",
   "execution_count": 603,
   "id": "93231e19-f720-43a3-b1af-626a24bcc3c7",
   "metadata": {},
   "outputs": [
    {
     "name": "stdout",
     "output_type": "stream",
     "text": [
      "0.9\n"
     ]
    }
   ],
   "source": [
    "with open('episodic-mdp-50-20.txt', 'r') as file:\n",
    "  for line_num, line in enumerate(file, 1):\n",
    "          words = line.split()\n",
    "          if words[0] == 'transition':\n",
    "                # Extract values from the line\n",
    "                current_state = int(words[1])\n",
    "                action = int(words[2])\n",
    "                next_state = int(words[3])\n",
    "                reward = float(words[4])\n",
    "                probability = float(words[5])\n",
    "\n",
    "                # Store values in arrays\n",
    "                rewards[current_state][action][next_state] = reward\n",
    "                probabilities[current_state][action][next_state] = probability\n",
    "\n",
    "          if words[0] == 'discount':\n",
    "            gamma = float(words[1])\n",
    "            print(gamma)"
   ]
  },
  {
   "cell_type": "code",
   "execution_count": 604,
   "id": "a5b8a67d-7405-4e73-b9df-747fc64b8dfe",
   "metadata": {},
   "outputs": [
    {
     "name": "stdout",
     "output_type": "stream",
     "text": [
      "Number of States: 50\n",
      "Number of Actions: 20\n",
      "Rewards:\n"
     ]
    }
   ],
   "source": [
    "print(\"Number of States:\", num_states)\n",
    "print(\"Number of Actions:\", num_actions)\n",
    "print(\"Rewards:\")\n",
    "#print(rewards)\n",
    "#print(probabilities)"
   ]
  },
  {
   "cell_type": "code",
   "execution_count": 605,
   "id": "6f88ecdf-da38-48a7-b6dc-a3c41e252fd9",
   "metadata": {},
   "outputs": [],
   "source": [
    "diff = 50\n",
    "while diff > eps:\n",
    "    for s in range(num_states):\n",
    "        for a in range(num_actions):\n",
    "            val[s][a] = rewards[s][a] @ probabilities[s][a] + gamma * (probabilities[s][a] @ v)\n",
    "        next_v[s] = val[s].max()\n",
    "        diff_arr[s] = np.abs(next_v[s] - v[s])\n",
    "        v[s] = next_v[s]\n",
    "        diff = diff_arr.max()\n",
    "        i+=1\n",
    "        pol[s] = np.argmax(val[s])"
   ]
  },
  {
   "cell_type": "code",
   "execution_count": 606,
   "id": "4761c98f-e6c6-4c4d-8797-6bed14c40b9e",
   "metadata": {
    "scrolled": true
   },
   "outputs": [
    {
     "name": "stdout",
     "output_type": "stream",
     "text": [
      "Optimal Values:\n",
      "[7.98554192 7.83729664 0.         7.66421624 7.83074135 7.82687821\n",
      " 7.94342716 8.26176912 7.86969159 8.34837074 7.71135528 7.77543066\n",
      " 7.91474086 8.00613256 8.1017072  8.08933745 0.         7.65255703\n",
      " 8.12485766 7.84316099 8.41576021 7.32133958 7.62795514 7.98452779\n",
      " 7.70891016 7.77701533 8.08961656 5.34050168 8.23876249 7.85545107\n",
      " 7.45737758 7.82969196 0.         7.66010071 0.         8.41825206\n",
      " 7.95922661 8.09763972 7.77800017 7.66162938 7.9910356  8.4977076\n",
      " 7.93330067 7.62353712 7.86419191 7.79944202 7.94846048 7.80615706\n",
      " 7.63789592 7.7452401 ]\n",
      "[16.  9.  0. 18. 15. 12. 10.  4. 14.  5. 11.  0. 17. 16.  0. 15.  0.  9.\n",
      "  4. 15. 12.  9.  2.  7. 13. 10. 15. 18. 19.  6.  3.  0.  0. 17.  0.  8.\n",
      " 17.  0. 18.  0.  3.  3.  8. 19. 10.  1.  7.  5. 18. 18.]\n",
      "i= 4000\n"
     ]
    }
   ],
   "source": [
    "#print(diff)\n",
    "print(\"Optimal Values:\")\n",
    "print(v)\n",
    "print(pol)\n",
    "print(\"i=\",i)"
   ]
  },
  {
   "cell_type": "code",
   "execution_count": 607,
   "id": "599707b3-ee60-47e6-934a-f61720787bc3",
   "metadata": {},
   "outputs": [],
   "source": [
    "# Combine the arrays into a 2D array\n",
    "arr = np.column_stack((v, pol))\n",
    "\n",
    "# Specify the file name\n",
    "file_name = 'sol-episodic-mdp-50-20.txt'\n",
    "\n",
    "# Write the array to a text file with 6 decimal places and one space between values\n",
    "np.savetxt(file_name, arr, fmt='%.6f %d', delimiter='\\t')\n"
   ]
  },
  {
   "cell_type": "code",
   "execution_count": null,
   "id": "c779abc2-d03f-4432-8753-e601c3ee8e7a",
   "metadata": {},
   "outputs": [],
   "source": []
  }
 ],
 "metadata": {
  "kernelspec": {
   "display_name": "Python 3 (ipykernel)",
   "language": "python",
   "name": "python3"
  },
  "language_info": {
   "codemirror_mode": {
    "name": "ipython",
    "version": 3
   },
   "file_extension": ".py",
   "mimetype": "text/x-python",
   "name": "python",
   "nbconvert_exporter": "python",
   "pygments_lexer": "ipython3",
   "version": "3.8.10"
  }
 },
 "nbformat": 4,
 "nbformat_minor": 5
}
